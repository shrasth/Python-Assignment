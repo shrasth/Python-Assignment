{
 "cells": [
  {
   "cell_type": "markdown",
   "id": "bb476383-c611-4293-88e0-0e8523b58ba3",
   "metadata": {},
   "source": [
    "**Q1. Create a python program to sort the given list of tuples based on integer value using a\n",
    "lambda function.**\n",
    "\n",
    "**[('Sachin Tendulkar', 34357), ('Ricky Ponting', 27483), ('Jack Kallis', 25534), ('Virat Kohli', 24936)]**"
   ]
  },
  {
   "cell_type": "code",
   "execution_count": 1,
   "id": "a19c88b9-6c15-4dac-9bc0-ab4fe0f5adb4",
   "metadata": {},
   "outputs": [],
   "source": [
    "l = [('Sachin Tendulkar', 34357), ('Ricky Ponting', 27483), ('Jack Kallis', 25534), ('Virat Kohli', 24936)]"
   ]
  },
  {
   "cell_type": "code",
   "execution_count": 6,
   "id": "105a18c3-2902-4048-9886-b1bda310b7bf",
   "metadata": {},
   "outputs": [
    {
     "name": "stdout",
     "output_type": "stream",
     "text": [
      "('Virat Kohli', 24936)\n",
      "('Jack Kallis', 25534)\n",
      "('Ricky Ponting', 27483)\n",
      "('Sachin Tendulkar', 34357)\n"
     ]
    }
   ],
   "source": [
    "for i in sorted(l,key = lambda x: x[1]):\n",
    "    print(i)"
   ]
  },
  {
   "cell_type": "code",
   "execution_count": null,
   "id": "eaf6374c-4d79-4803-b00e-e9319240f73a",
   "metadata": {},
   "outputs": [],
   "source": []
  },
  {
   "cell_type": "markdown",
   "id": "0849ea56-c61e-4d6e-9ca7-0d9b94783267",
   "metadata": {},
   "source": [
    "**Q2. Write a Python Program to find the squares of all the numbers in the given list of integers using\n",
    "lambda and map functions.**\n",
    "**[1, 2, 3, 4, 5, 6, 7, 8, 9, 10]**"
   ]
  },
  {
   "cell_type": "code",
   "execution_count": 7,
   "id": "94da0c6a-c96c-4c31-a80f-2e033504a0fd",
   "metadata": {},
   "outputs": [],
   "source": [
    "l1 = [1, 2, 3, 4, 5, 6, 7, 8, 9, 10]"
   ]
  },
  {
   "cell_type": "code",
   "execution_count": 8,
   "id": "6e37b1e7-0b20-42bc-bccf-c6f662e2865e",
   "metadata": {},
   "outputs": [
    {
     "data": {
      "text/plain": [
       "[1, 4, 9, 16, 25, 36, 49, 64, 81, 100]"
      ]
     },
     "execution_count": 8,
     "metadata": {},
     "output_type": "execute_result"
    }
   ],
   "source": [
    "list(map(lambda x: x**2,l1))"
   ]
  },
  {
   "cell_type": "code",
   "execution_count": null,
   "id": "a4bde7c0-6fb6-43cb-b67c-858b2c05d989",
   "metadata": {},
   "outputs": [],
   "source": []
  },
  {
   "cell_type": "markdown",
   "id": "68cfe57c-466c-4ce2-a4a5-ac800616bdc1",
   "metadata": {},
   "source": [
    "**Q3. Write a python program to convert the given list of integers into a tuple of strings. Use map and\n",
    "lambda functions**\n",
    "**Given String: [1, 2, 3, 4, 5, 6, 7, 8, 9, 10]**\n",
    "**Expected output: ('1', '2', '3', '4', '5', '6', '7', '8', '9', '10')**"
   ]
  },
  {
   "cell_type": "code",
   "execution_count": 12,
   "id": "d66cdc29-ba42-4acd-8542-79d7a3bc0502",
   "metadata": {},
   "outputs": [
    {
     "data": {
      "text/plain": [
       "('1', '2', '3', '4', '5', '6', '7', '8', '9', '10')"
      ]
     },
     "execution_count": 12,
     "metadata": {},
     "output_type": "execute_result"
    }
   ],
   "source": [
    "l2= [1, 2, 3, 4, 5, 6, 7, 8, 9, 10]\n",
    "\n",
    "tuple(map(lambda x: str(x),l2))"
   ]
  },
  {
   "cell_type": "code",
   "execution_count": null,
   "id": "3977706c-76d8-489a-8698-aa1edabf7884",
   "metadata": {},
   "outputs": [],
   "source": []
  },
  {
   "cell_type": "markdown",
   "id": "fdf4c477-f22a-4c60-8f11-280d5ab6c18a",
   "metadata": {},
   "source": [
    "**Q4. Write a python program using reduce function to compute the product of a list containing numbers\n",
    "from 1 to 25.**"
   ]
  },
  {
   "cell_type": "code",
   "execution_count": 14,
   "id": "24ebcc55-e5e1-4d5c-a651-c966082e2c43",
   "metadata": {},
   "outputs": [],
   "source": [
    "from functools import reduce"
   ]
  },
  {
   "cell_type": "code",
   "execution_count": 15,
   "id": "5c9229ec-3d4c-489d-9d08-02b7351428c1",
   "metadata": {},
   "outputs": [
    {
     "data": {
      "text/plain": [
       "15511210043330985984000000"
      ]
     },
     "execution_count": 15,
     "metadata": {},
     "output_type": "execute_result"
    }
   ],
   "source": [
    "reduce(lambda x,y : x*y, list(range(1,26)))"
   ]
  },
  {
   "cell_type": "code",
   "execution_count": null,
   "id": "6e09f9df-4bdb-4ad0-b051-0723d84536f2",
   "metadata": {},
   "outputs": [],
   "source": []
  },
  {
   "cell_type": "markdown",
   "id": "fea98ea2-97fd-4ecb-878b-e91e2d36f996",
   "metadata": {},
   "source": [
    "**Q5. Write a python program to filter the numbers in a given list that are divisible by 2 and 3 using the\n",
    "filter function.**\n",
    "**[2, 3, 6, 9, 27, 60, 90, 120, 55, 46]**"
   ]
  },
  {
   "cell_type": "code",
   "execution_count": 19,
   "id": "0d1b7154-2144-440b-ad26-4131762966a3",
   "metadata": {},
   "outputs": [
    {
     "data": {
      "text/plain": [
       "[6, 60, 90, 120]"
      ]
     },
     "execution_count": 19,
     "metadata": {},
     "output_type": "execute_result"
    }
   ],
   "source": [
    "l3 = [2, 3, 6, 9, 27, 60, 90, 120, 55, 46]\n",
    "\n",
    "list(filter(lambda x : x%2==0 and x%3==0,l3))"
   ]
  },
  {
   "cell_type": "code",
   "execution_count": null,
   "id": "272e4bf8-faf3-4241-8a19-9634d77a5a69",
   "metadata": {},
   "outputs": [],
   "source": []
  },
  {
   "cell_type": "markdown",
   "id": "c0e28bea-0260-4fba-9c2b-e2e9a6f8a36c",
   "metadata": {},
   "source": [
    "**Q6. Write a python program to find palindromes in the given list of strings using lambda and filter function.**\n",
    "**['python', 'php', 'aba', 'radar', 'level']**"
   ]
  },
  {
   "cell_type": "code",
   "execution_count": 23,
   "id": "e15d7b90-8a00-4069-a046-e7052d3ac136",
   "metadata": {},
   "outputs": [
    {
     "data": {
      "text/plain": [
       "['php', 'aba', 'radar', 'level']"
      ]
     },
     "execution_count": 23,
     "metadata": {},
     "output_type": "execute_result"
    }
   ],
   "source": [
    "l4 = ['python', 'php', 'aba', 'radar', 'level']\n",
    "\n",
    "list(filter(lambda x : x == x[::-1] ,l4))"
   ]
  },
  {
   "cell_type": "code",
   "execution_count": null,
   "id": "54dc9ae6-c121-48c6-a3b0-3bfa50828227",
   "metadata": {},
   "outputs": [],
   "source": []
  }
 ],
 "metadata": {
  "kernelspec": {
   "display_name": "Python 3 (ipykernel)",
   "language": "python",
   "name": "python3"
  },
  "language_info": {
   "codemirror_mode": {
    "name": "ipython",
    "version": 3
   },
   "file_extension": ".py",
   "mimetype": "text/x-python",
   "name": "python",
   "nbconvert_exporter": "python",
   "pygments_lexer": "ipython3",
   "version": "3.10.8"
  }
 },
 "nbformat": 4,
 "nbformat_minor": 5
}
